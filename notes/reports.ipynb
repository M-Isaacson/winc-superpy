{
 "cells": [
  {
   "cell_type": "markdown",
   "metadata": {},
   "source": [
    "# REPORTS"
   ]
  },
  {
   "cell_type": "code",
   "execution_count": 1,
   "metadata": {},
   "outputs": [],
   "source": [
    "\"\"\"\n",
    "Creating reports.\n",
    "\"\"\"\n",
    "\n",
    "# Python built-in modules\n",
    "import os.path\n",
    "\n",
    "# Third party libraries\n",
    "import pandas as pd\n",
    "from tabulate import tabulate\n",
    "\n",
    "# Local modules\n",
    "import crud\n",
    "import settings\n",
    "import helpers"
   ]
  },
  {
   "cell_type": "markdown",
   "metadata": {},
   "source": [
    "## Inventory\n"
   ]
  },
  {
   "cell_type": "code",
   "execution_count": 2,
   "metadata": {},
   "outputs": [],
   "source": [
    "def inventory(product:str, output:str):\n",
    "    \"\"\"\n",
    "    Shows inventory.\n",
    "    \"\"\"\n",
    "    pass"
   ]
  },
  {
   "cell_type": "code",
   "execution_count": 3,
   "metadata": {},
   "outputs": [],
   "source": [
    "    product = \"all\"\n",
    "    output = \"json\"\n",
    "\n",
    "    ini_rw=settings.ReadWriteINI()\n",
    "    \n",
    "    df = pd.read_csv(crud.product_props[\"path\"],delimiter=crud.csv_delimiter, index_col=\"id\")\n",
    "    df.drop(columns=['sum_costs','sum_revenues'],inplace=True)\n",
    "    if product == \"all\":\n",
    "        report_df = df.sort_values(by='product_name')\n",
    "        report_title=(\"Inventory of all products:\".upper())\n",
    "        file_name=f\"inventory_all_{ini_rw.get_app_date()}\"\n",
    "    else:\n",
    "        product_filter = (df['product_name']==product)\n",
    "        report_df = df.loc[product_filter]\n",
    "        report_title=(f\"Inventory of {product}:\".upper())\n",
    "        file_name=f\"inventory_{product}_{ini_rw.get_app_date()}\"\n",
    "    \n",
    "    if output == 'screen':\n",
    "        print(report_title)\n",
    "        print(tabulate(report_df, headers='keys', tablefmt='grid'))\n",
    "    if output == 'csv':\n",
    "        file_path = os.path.join(settings.reports_dir,f\"{file_name}.csv\")\n",
    "        report_df.to_csv(file_path,sep=crud.csv_delimiter)\n",
    "    if output == 'json':\n",
    "        file_path = os.path.join(settings.reports_dir,f\"{file_name}.json\")\n",
    "        report_df.to_json(file_path,index=1, orient='records')\n"
   ]
  },
  {
   "cell_type": "markdown",
   "metadata": {},
   "source": [
    "## Reports"
   ]
  },
  {
   "cell_type": "code",
   "execution_count": 4,
   "metadata": {},
   "outputs": [],
   "source": [
    "def report(subject:str, date_range:str, date_type:str, output:str):\n",
    "    \"\"\"\n",
    "    Creates  a report\n",
    "    \"\"\"\n",
    "    pass"
   ]
  },
  {
   "cell_type": "code",
   "execution_count": 5,
   "metadata": {},
   "outputs": [
    {
     "name": "stdout",
     "output_type": "stream",
     "text": [
      "Sales in Q1 of 2022 - Total of sales: € 6.70\n",
      "+------------------+------------------+--------------+-------------+------------+------------+-------------+\n",
      "|        id        |    product_id    | product_name | amount_sold | date_sold  | unit_price | total_price |\n",
      "+------------------+------------------+--------------+-------------+------------+------------+-------------+\n",
      "| S.20220207.00001 | P.20220207.00001 |    apples    |     25      | 2022-02-07 |   € 0.13   |   € 3.25    |\n",
      "| S.20220207.00002 | P.20220207.00002 |   oranges    |     15      | 2022-02-07 |   € 0.23   |   € 3.45    |\n",
      "+------------------+------------------+--------------+-------------+------------+------------+-------------+\n"
     ]
    }
   ],
   "source": [
    "    subject = \"sales\"\n",
    "    date_range = \"2022-1\"\n",
    "    date_type = \"quarter\"\n",
    "    output = \"screen\"\n",
    "\n",
    "    ini_rw=settings.ReadWriteINI()\n",
    "\n",
    "    # Creating dataframe.\n",
    "    if subject=='purchases':\n",
    "        df = pd.read_csv(crud.purchase_props[\"path\"],delimiter=crud.csv_delimiter, index_col=\"id\")\n",
    "        date_field = 'date_bought'\n",
    "        df.drop(columns=['stock_amount','amount_expired', 'expiration_date'],inplace=True)\n",
    "    if subject=='sales':\n",
    "        df = pd.read_csv(crud.sale_props[\"path\"],delimiter=crud.csv_delimiter, index_col=\"id\")\n",
    "        date_field = 'date_sold'\n",
    "\n",
    "    # Convert string to datetime object.\n",
    "    df[date_field] = pd.to_datetime(df[date_field],format='%Y-%m-%d')\n",
    "    \n",
    "    # Convert string to float.\n",
    "    df['total_price'] = pd.to_numeric(df['total_price'])\n",
    "\n",
    "    # Setting varaibles\n",
    "    if date_type == \"day\" and date_range==\"yesterday\":\n",
    "        iso_date = helpers.date_yesterday(ini_rw.get_app_date())\n",
    "        report_filter = (df[date_field] == iso_date)\n",
    "        report_title = f\"{subject.capitalize()} on {helpers.long_date_notation(iso_date,'date')}\"\n",
    "        file_name = f\"{subject}_{iso_date}\"\n",
    "    if date_type == \"day\" and date_range==\"today\":\n",
    "        iso_date = ini_rw.get_app_date()\n",
    "        report_filter = (df[date_field] == iso_date)\n",
    "        report_title = f\"{subject.capitalize()} on {helpers.long_date_notation(iso_date,'date')}\"\n",
    "        file_name = f\"{subject}_{iso_date}\"\n",
    "    if date_type == \"date\":\n",
    "        report_filter = (df[date_field] == date_range)\n",
    "        report_title = f\"{subject.capitalize()} on {helpers.long_date_notation(date_range,'date')}\"\n",
    "        file_name = f\"{subject}_{date_range}\"\n",
    "    if date_type == \"month\":\n",
    "        year_date = int(date_range[0:4])\n",
    "        month_date = int(date_range[5:])\n",
    "        report_filter=(df[date_field].dt.year==year_date) & (df[date_field].dt.month==month_date)\n",
    "        report_title=f\"{subject.capitalize()} in {helpers.long_date_notation(date_range,'month')}\"\n",
    "        file_name = f\"{subject}_{date_range}\"\n",
    "    if date_type == \"quarter\":\n",
    "        year_date = int(date_range[0:4])\n",
    "        quarter_date = int(date_range[-1])\n",
    "        report_filter=(df[date_field].dt.year==year_date) & (df[date_field].dt.quarter==quarter_date)\n",
    "        report_title=f\"{str(subject.capitalize())} in {helpers.long_date_notation(date_range,'quarter')}\"\n",
    "        file_name = f\"{subject}_{date_range}\"\n",
    "    if date_type == \"year\":\n",
    "        report_filter=(df[date_field].dt.year==date_range)\n",
    "        report_title=f\"{subject.capitalize()} in {date_range}.\"\n",
    "        file_name = f\"{subject}_{date_range}\"\n",
    "\n",
    "    # Setting filter\n",
    "    df = df.loc[report_filter]\n",
    "\n",
    "    df[date_field] = df[date_field].dt.date\n",
    "\n",
    "    # Create and set format for valuta\n",
    "    total = df['total_price'].sum()\n",
    "    df[\"unit_price\"] = df[\"unit_price\"].apply(lambda x: helpers.valuta_notation(float(x)))\n",
    "    df[\"total_price\"] = df[\"total_price\"].apply(lambda x: helpers.valuta_notation(float(x)))\n",
    "\n",
    "    \n",
    "    if output == 'screen':\n",
    "        print(f\"{report_title} - Total of {subject}: {helpers.valuta_notation(float(total))}\")\n",
    "        print(tabulate(df, headers='keys', tablefmt='pretty'))\n",
    "    if output == 'csv':\n",
    "        file_path = os.path.join(settings.reports_dir,f\"{file_name}.csv\")\n",
    "        df.to_csv(file_path,sep=crud.csv_delimiter)\n",
    "    if output == 'json':\n",
    "        file_path = os.path.join(settings.reports_dir,f\"{file_name}.json\")\n",
    "        df.to_json(file_path,index=1, orient='records')\n",
    "\n",
    "    "
   ]
  }
 ],
 "metadata": {
  "interpreter": {
   "hash": "73af386e7550db530d61afda522c23b1b70886a5f03ad5fc756a87342f9f1ef3"
  },
  "kernelspec": {
   "display_name": "Python 3.10.1 64-bit ('venv': venv)",
   "language": "python",
   "name": "python3"
  },
  "language_info": {
   "codemirror_mode": {
    "name": "ipython",
    "version": 3
   },
   "file_extension": ".py",
   "mimetype": "text/x-python",
   "name": "python",
   "nbconvert_exporter": "python",
   "pygments_lexer": "ipython3",
   "version": "3.10.1"
  },
  "orig_nbformat": 4
 },
 "nbformat": 4,
 "nbformat_minor": 2
}
