{
 "cells": [
  {
   "cell_type": "markdown",
   "metadata": {},
   "source": [
    "# THEMING.PY"
   ]
  },
  {
   "cell_type": "code",
   "execution_count": 1,
   "metadata": {},
   "outputs": [
    {
     "data": {
      "text/plain": [
       "'\\nApplication styling.\\n'"
      ]
     },
     "execution_count": 1,
     "metadata": {},
     "output_type": "execute_result"
    }
   ],
   "source": [
    "\"\"\"\n",
    "Application styling.\n",
    "\"\"\""
   ]
  },
  {
   "cell_type": "markdown",
   "metadata": {},
   "source": [
    "## Imports"
   ]
  },
  {
   "cell_type": "code",
   "execution_count": 2,
   "metadata": {},
   "outputs": [],
   "source": [
    "# Python built-in modules\n",
    "import os\n",
    "from rich.console import Console"
   ]
  },
  {
   "cell_type": "markdown",
   "metadata": {},
   "source": [
    "## Module Settings"
   ]
  },
  {
   "cell_type": "code",
   "execution_count": 3,
   "metadata": {},
   "outputs": [],
   "source": [
    "# Colors\n",
    "theme_color={\n",
    "    \"info\":\"#36c2f1\",\n",
    "    \"error\":\"#d75f5f\",\n",
    "    \"success\":\"#82c5a9\",\n",
    "    \"app\":\"#e5c07b\"\n",
    "}\n",
    "\n",
    "# Emojis\n",
    "theme_emoji={\n",
    "    \"info\":\":right_arrow:\",\n",
    "    \"error\":\":double_exclamation_mark:\",\n",
    "    \"success\":\":heavy_check_mark:\"\n",
    "}\n",
    "\n",
    "# Create console instance\n",
    "console=Console()"
   ]
  },
  {
   "cell_type": "markdown",
   "metadata": {},
   "source": [
    "## Module Exception Classes"
   ]
  },
  {
   "cell_type": "code",
   "execution_count": 4,
   "metadata": {},
   "outputs": [],
   "source": [
    "class TerminalMsgError(Exception):\n",
    "    pass"
   ]
  },
  {
   "cell_type": "markdown",
   "metadata": {},
   "source": [
    "## Rich Message Function"
   ]
  },
  {
   "cell_type": "code",
   "execution_count": 5,
   "metadata": {},
   "outputs": [],
   "source": [
    "def rich_msg(msg:str,msg_type:str):\n",
    "    \"\"\"\n",
    "    Creates themed message.\n",
    "    \"\"\"\n",
    "    msg_list = [\"info\",\"error\",\"success\"]\n",
    "    theme_type = msg_type.lower().strip()\n",
    "    if theme_type == \"app\":\n",
    "        console.print(f\"{msg}\", style=theme_color[\"app\"])\n",
    "    elif theme_type in msg_list:\n",
    "        console.print(f\"{theme_emoji[theme_type]} {msg}\", style=theme_color[theme_type])\n",
    "    else:\n",
    "        raise TerminalMsgError(f\"Please check arguments! msg => '{msg}' ,msg_type => '{msg_type}'\")"
   ]
  },
  {
   "cell_type": "markdown",
   "metadata": {},
   "source": [
    "## Rich Header Function"
   ]
  },
  {
   "cell_type": "code",
   "execution_count": 6,
   "metadata": {},
   "outputs": [],
   "source": [
    "def rich_header(header_text:str,clear_screen=True):\n",
    "    \"\"\"\n",
    "    Creates themed application header\n",
    "    \"\"\"\n",
    "    if clear_screen:\n",
    "        if os.name == \"posix\":\n",
    "            os.system(\"clear\")\n",
    "        else:\n",
    "            os.system(\"cls\")\n",
    "    color=theme_color[\"app\"]\n",
    "    console.rule(f\"[bold {color}]{header_text}\",characters=\"=\", style=color)\n"
   ]
  }
 ],
 "metadata": {
  "interpreter": {
   "hash": "73af386e7550db530d61afda522c23b1b70886a5f03ad5fc756a87342f9f1ef3"
  },
  "kernelspec": {
   "display_name": "Python 3.10.1 64-bit ('venv': venv)",
   "language": "python",
   "name": "python3"
  },
  "language_info": {
   "codemirror_mode": {
    "name": "ipython",
    "version": 3
   },
   "file_extension": ".py",
   "mimetype": "text/x-python",
   "name": "python",
   "nbconvert_exporter": "python",
   "pygments_lexer": "ipython3",
   "version": "3.10.1"
  },
  "orig_nbformat": 4
 },
 "nbformat": 4,
 "nbformat_minor": 2
}
